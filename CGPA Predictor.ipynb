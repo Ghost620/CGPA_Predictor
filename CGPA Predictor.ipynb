{
 "cells": [
  {
   "cell_type": "code",
   "execution_count": 470,
   "id": "7e40ed01",
   "metadata": {},
   "outputs": [],
   "source": [
    "import pandas as pd\n",
    "df = pd.read_csv('The_Grades_Dataset.csv')\n",
    "df = df.drop('Seat No.',axis=1)\n",
    "Y = df[['CGPA']]\n",
    "df = df.drop('CGPA',axis=1)"
   ]
  },
  {
   "cell_type": "code",
   "execution_count": 471,
   "id": "2c4592e6",
   "metadata": {},
   "outputs": [],
   "source": [
    "X = df.iloc[:, :41]"
   ]
  },
  {
   "cell_type": "code",
   "execution_count": 472,
   "id": "cadd6fdd",
   "metadata": {},
   "outputs": [],
   "source": [
    "columns_titles = ['PH-121', 'HS-101', 'CY-105', 'HS-105/12', 'MT-111', 'CS-105', 'CS-106',\n",
    "       'EL-102', 'EE-119', 'ME-107', 'CS-107', 'HS-205/20', 'MT-222', 'EE-222',\n",
    "       'MT-224', 'CS-210', 'CS-211', 'CS-203', 'CS-214', 'EE-217', 'CS-212',\n",
    "       'CS-215', 'MT-331', 'EF-303', 'HS-304', 'CS-301', 'CS-302', 'TC-383',\n",
    "        'EL-332', 'CS-318', 'CS-306', 'CS-312', 'CS-317', 'MT-442', 'CS-403',\n",
    "       'CS-421', 'CS-406', 'CS-414', 'CS-419', 'CS-423', 'CS-412']\n",
    "\n",
    "df_reorder = df.reindex(columns=columns_titles)"
   ]
  },
  {
   "cell_type": "code",
   "execution_count": 473,
   "id": "8beecb07",
   "metadata": {},
   "outputs": [],
   "source": [
    "from sklearn.preprocessing import LabelEncoder\n",
    "labelencoder_X = LabelEncoder()\n",
    "df_encoded = df_reorder.apply(labelencoder_X.fit_transform)"
   ]
  },
  {
   "cell_type": "code",
   "execution_count": 474,
   "id": "b09c92ae",
   "metadata": {},
   "outputs": [],
   "source": [
    "df1 = df_encoded.iloc[:, :11]"
   ]
  },
  {
   "cell_type": "code",
   "execution_count": 475,
   "id": "d68f8a47",
   "metadata": {},
   "outputs": [],
   "source": [
    "df2 = df_encoded.iloc[:, :22]"
   ]
  },
  {
   "cell_type": "code",
   "execution_count": 476,
   "id": "bd2e01b6",
   "metadata": {},
   "outputs": [],
   "source": [
    "df3 = df_encoded.iloc[:, :33]"
   ]
  },
  {
   "cell_type": "code",
   "execution_count": 477,
   "id": "64dbbdc3",
   "metadata": {},
   "outputs": [
    {
     "name": "stderr",
     "output_type": "stream",
     "text": [
      "C:\\Users\\Ghost\\AppData\\Local\\Temp\\ipykernel_3248\\3149961966.py:1: SettingWithCopyWarning: \n",
      "A value is trying to be set on a copy of a slice from a DataFrame\n",
      "\n",
      "See the caveats in the documentation: https://pandas.pydata.org/pandas-docs/stable/user_guide/indexing.html#returning-a-view-versus-a-copy\n",
      "  df1.fillna(method ='ffill', inplace = True)\n",
      "C:\\Users\\Ghost\\AppData\\Local\\Temp\\ipykernel_3248\\3149961966.py:2: SettingWithCopyWarning: \n",
      "A value is trying to be set on a copy of a slice from a DataFrame\n",
      "\n",
      "See the caveats in the documentation: https://pandas.pydata.org/pandas-docs/stable/user_guide/indexing.html#returning-a-view-versus-a-copy\n",
      "  df1.fillna(method ='ffill', inplace = True)\n",
      "C:\\Users\\Ghost\\AppData\\Local\\Temp\\ipykernel_3248\\3149961966.py:3: SettingWithCopyWarning: \n",
      "A value is trying to be set on a copy of a slice from a DataFrame\n",
      "\n",
      "See the caveats in the documentation: https://pandas.pydata.org/pandas-docs/stable/user_guide/indexing.html#returning-a-view-versus-a-copy\n",
      "  df2.fillna(method ='ffill', inplace = True)\n",
      "C:\\Users\\Ghost\\AppData\\Local\\Temp\\ipykernel_3248\\3149961966.py:4: SettingWithCopyWarning: \n",
      "A value is trying to be set on a copy of a slice from a DataFrame\n",
      "\n",
      "See the caveats in the documentation: https://pandas.pydata.org/pandas-docs/stable/user_guide/indexing.html#returning-a-view-versus-a-copy\n",
      "  df2.fillna(method ='ffill', inplace = True)\n",
      "C:\\Users\\Ghost\\AppData\\Local\\Temp\\ipykernel_3248\\3149961966.py:5: SettingWithCopyWarning: \n",
      "A value is trying to be set on a copy of a slice from a DataFrame\n",
      "\n",
      "See the caveats in the documentation: https://pandas.pydata.org/pandas-docs/stable/user_guide/indexing.html#returning-a-view-versus-a-copy\n",
      "  df3.fillna(method ='ffill', inplace = True)\n",
      "C:\\Users\\Ghost\\AppData\\Local\\Temp\\ipykernel_3248\\3149961966.py:6: SettingWithCopyWarning: \n",
      "A value is trying to be set on a copy of a slice from a DataFrame\n",
      "\n",
      "See the caveats in the documentation: https://pandas.pydata.org/pandas-docs/stable/user_guide/indexing.html#returning-a-view-versus-a-copy\n",
      "  df3.fillna(method ='ffill', inplace = True)\n"
     ]
    }
   ],
   "source": [
    "df1.fillna(method ='ffill', inplace = True)\n",
    "df1.fillna(method ='ffill', inplace = True)\n",
    "df2.fillna(method ='ffill', inplace = True)\n",
    "df2.fillna(method ='ffill', inplace = True)\n",
    "df3.fillna(method ='ffill', inplace = True)\n",
    "df3.fillna(method ='ffill', inplace = True)"
   ]
  },
  {
   "cell_type": "code",
   "execution_count": 478,
   "id": "456c3eed",
   "metadata": {},
   "outputs": [],
   "source": [
    "import numpy as np\n",
    "import seaborn as sns\n",
    "import matplotlib.pyplot as plt\n",
    "from sklearn import preprocessing, svm\n",
    "from sklearn.model_selection import train_test_split"
   ]
  },
  {
   "cell_type": "code",
   "execution_count": 479,
   "id": "441e4115",
   "metadata": {},
   "outputs": [],
   "source": [
    "X1_train, X1_test, y1_train, y1_test = train_test_split(df1, Y, test_size = 0.25)\n",
    "X2_train, X2_test, y2_train, y2_test = train_test_split(df2, Y, test_size = 0.25)\n",
    "X3_train, X3_test, y3_train, y3_test = train_test_split(df3, Y, test_size = 0.25)"
   ]
  },
  {
   "cell_type": "code",
   "execution_count": 480,
   "id": "3976795b",
   "metadata": {},
   "outputs": [
    {
     "data": {
      "text/plain": [
       "0.7973659208097423"
      ]
     },
     "execution_count": 480,
     "metadata": {},
     "output_type": "execute_result"
    }
   ],
   "source": [
    "from sklearn.linear_model import LinearRegression\n",
    "regr1 = LinearRegression()\n",
    "regr1.fit(X1_train, y1_train)\n",
    "regr1.score(X1_test, y1_test)"
   ]
  },
  {
   "cell_type": "code",
   "execution_count": 481,
   "id": "9698a10c",
   "metadata": {},
   "outputs": [
    {
     "data": {
      "text/plain": [
       "0.8080627732021435"
      ]
     },
     "execution_count": 481,
     "metadata": {},
     "output_type": "execute_result"
    }
   ],
   "source": [
    "from sklearn.neighbors import KNeighborsRegressor\n",
    "neigh1 = KNeighborsRegressor(n_neighbors=5)\n",
    "neigh1.fit(X1_train, y1_train)\n",
    "neigh1.score(X1_test, y1_test)"
   ]
  },
  {
   "cell_type": "code",
   "execution_count": 482,
   "id": "54b3b914",
   "metadata": {},
   "outputs": [
    {
     "data": {
      "text/plain": [
       "0.35208308055454673"
      ]
     },
     "execution_count": 482,
     "metadata": {},
     "output_type": "execute_result"
    }
   ],
   "source": [
    "from sklearn.linear_model import Lasso\n",
    "lasso1 = Lasso(alpha=1.0)\n",
    "lasso1.fit(X1_train, y1_train)\n",
    "lasso1.score(X1_train, y1_train)"
   ]
  },
  {
   "cell_type": "code",
   "execution_count": 483,
   "id": "2d621313",
   "metadata": {},
   "outputs": [
    {
     "data": {
      "text/plain": [
       "0.9115758009784565"
      ]
     },
     "execution_count": 483,
     "metadata": {},
     "output_type": "execute_result"
    }
   ],
   "source": [
    "from sklearn.linear_model import LinearRegression\n",
    "regr2 = LinearRegression()\n",
    "regr2.fit(X2_train, y2_train)\n",
    "regr2.score(X2_test, y2_test)"
   ]
  },
  {
   "cell_type": "code",
   "execution_count": 484,
   "id": "e039700b",
   "metadata": {},
   "outputs": [
    {
     "data": {
      "image/png": "[encoded data removed]",
      "text/plain": [
       "<Figure size 432x288 with 1 Axes>"
      ]
     },
     "metadata": {
      "needs_background": "light"
     },
     "output_type": "display_data"
    }
   ],
   "source": [
    "import scikitplot.estimators as esti\n",
    "import matplotlib.pyplot as plt\n",
    "esti.plot_learning_curve(regr2, X2_train, y2_train)\n",
    "plt.show()"
   ]
  },
  {
   "cell_type": "code",
   "execution_count": 485,
   "id": "e17ad4bd",
   "metadata": {},
   "outputs": [
    {
     "data": {
      "text/plain": [
       "0.8833130229086382"
      ]
     },
     "execution_count": 485,
     "metadata": {},
     "output_type": "execute_result"
    }
   ],
   "source": [
    "from sklearn.neighbors import KNeighborsRegressor\n",
    "neigh2 = KNeighborsRegressor(n_neighbors=3)\n",
    "neigh2.fit(X2_train, y2_train)\n",
    "neigh2.score(X2_test, y2_test)"
   ]
  },
  {
   "cell_type": "code",
   "execution_count": 486,
   "id": "ba333165",
   "metadata": {},
   "outputs": [
    {
     "data": {
      "image/png": "[encoded data removed]",
      "text/plain": [
       "<Figure size 432x288 with 1 Axes>"
      ]
     },
     "metadata": {
      "needs_background": "light"
     },
     "output_type": "display_data"
    }
   ],
   "source": [
    "import scikitplot.estimators as esti\n",
    "import matplotlib.pyplot as plt\n",
    "esti.plot_learning_curve(neigh2, X2_train, y2_train)\n",
    "plt.show()"
   ]
  },
  {
   "cell_type": "code",
   "execution_count": 487,
   "id": "cc1a5b26",
   "metadata": {},
   "outputs": [
    {
     "data": {
      "text/plain": [
       "0.37281588693610346"
      ]
     },
     "execution_count": 487,
     "metadata": {},
     "output_type": "execute_result"
    }
   ],
   "source": [
    "from sklearn.linear_model import Lasso\n",
    "lasso2 = Lasso(alpha=1.0)\n",
    "lasso2.fit(X2_train, y2_train)\n",
    "lasso2.score(X2_train, y2_train)"
   ]
  },
  {
   "cell_type": "code",
   "execution_count": 488,
   "id": "0f0277b5",
   "metadata": {},
   "outputs": [
    {
     "data": {
      "image/png": "[encoded data removed]",
      "text/plain": [
       "<Figure size 432x288 with 1 Axes>"
      ]
     },
     "metadata": {
      "needs_background": "light"
     },
     "output_type": "display_data"
    }
   ],
   "source": [
    "import scikitplot.estimators as esti\n",
    "import matplotlib.pyplot as plt\n",
    "esti.plot_learning_curve(lasso2, X2_train, y2_train)\n",
    "plt.show()"
   ]
  },
  {
   "cell_type": "code",
   "execution_count": 489,
   "id": "cf0218b8",
   "metadata": {},
   "outputs": [
    {
     "data": {
      "text/plain": [
       "0.8302481957648562"
      ]
     },
     "execution_count": 489,
     "metadata": {},
     "output_type": "execute_result"
    }
   ],
   "source": [
    "from sklearn.linear_model import LinearRegression\n",
    "regr3 = LinearRegression()\n",
    "regr3.fit(X3_train, y3_train)\n",
    "regr3.score(X3_test, y3_test)"
   ]
  },
  {
   "cell_type": "code",
   "execution_count": 490,
   "id": "58cacf11",
   "metadata": {},
   "outputs": [
    {
     "data": {
      "text/plain": [
       "0.8648480190930099"
      ]
     },
     "execution_count": 490,
     "metadata": {},
     "output_type": "execute_result"
    }
   ],
   "source": [
    "from sklearn.neighbors import KNeighborsRegressor\n",
    "neigh3 = KNeighborsRegressor(n_neighbors=5)\n",
    "neigh3.fit(X3_train, y3_train)\n",
    "neigh3.score(X3_test, y3_test)"
   ]
  },
  {
   "cell_type": "code",
   "execution_count": 491,
   "id": "489d60f4",
   "metadata": {},
   "outputs": [
    {
     "data": {
      "text/plain": [
       "0.44267200550773933"
      ]
     },
     "execution_count": 491,
     "metadata": {},
     "output_type": "execute_result"
    }
   ],
   "source": [
    "from sklearn.linear_model import Lasso\n",
    "lasso3 = Lasso(alpha=1.0)\n",
    "lasso3.fit(X3_train, y3_train)\n",
    "lasso3.score(X3_train, y3_train)"
   ]
  },
  {
   "cell_type": "code",
   "execution_count": 492,
   "id": "02d0d661",
   "metadata": {},
   "outputs": [
    {
     "name": "stdout",
     "output_type": "stream",
     "text": [
      "Select {'board': '2nd Year'}\n",
      "2\n",
      "{'PH-121': 'A', 'HS-101': 'A', 'CY-105': 'A', 'HS-105/12': 'B', 'MT-111': 'C', 'CS-105': 'C', 'CS-106': 'B', 'EL-102': 'A', 'EE-119': 'F', 'ME-107': 'A', 'CS-107': 'A'}\n",
      "{'HS-205/20': 'A+', 'MT-222': 'B', 'EE-222': 'A-', 'MT-224': 'B', 'CS-210': 'B', 'CS-211': 'B', 'CS-203': 'C', 'CS-214': 'F', 'EE-217': 'D', 'CS-212': 'A', 'CS-215': 'A'}\n"
     ]
    },
    {
     "name": "stderr",
     "output_type": "stream",
     "text": [
      "C:\\Users\\Ghost\\anaconda3\\lib\\site-packages\\sklearn\\preprocessing\\_label.py:133: DataConversionWarning: A column-vector y was passed when a 1d array was expected. Please change the shape of y to (n_samples, ), for example using ravel().\n",
      "  y = column_or_1d(y, warn=True)\n",
      "C:\\Users\\Ghost\\anaconda3\\lib\\site-packages\\sklearn\\base.py:450: UserWarning: X does not have valid feature names, but LinearRegression was fitted with feature names\n",
      "  warnings.warn(\n",
      "C:\\Users\\Ghost\\anaconda3\\lib\\site-packages\\sklearn\\base.py:450: UserWarning: X does not have valid feature names, but KNeighborsRegressor was fitted with feature names\n",
      "  warnings.warn(\n",
      "C:\\Users\\Ghost\\anaconda3\\lib\\site-packages\\sklearn\\base.py:450: UserWarning: X does not have valid feature names, but Lasso was fitted with feature names\n",
      "  warnings.warn(\n"
     ]
    }
   ],
   "source": [
    "import PySimpleGUI as psg\n",
    "import random,time\n",
    "from tkinter import simpledialog\n",
    "import tkinter as tk\n",
    "from tkinter import ttk\n",
    "from tkinter import *\n",
    "theme_name_list = psg.theme_list()\n",
    "psg.theme(theme_name_list[random.randint(0, len(theme_name_list))])\n",
    "layout=[[psg.Text('Choose the model',size=(25, 1), font='Lucida',justification='left')],\n",
    "        [psg.Combo(['1st Year','2nd Year','3rd Year'],default_value='Choose Model',key='board',size=(15,1))],\n",
    "        [psg.Button('Select', font=('Times New Roman',12)),psg.Button('Cancel', font=('Times New Roman',12))]]\n",
    "wini =psg.Window('Select Model',layout)\n",
    "e,v=wini.read()\n",
    "print(e,v)\n",
    "if e == None or e == \"CANCEL\":\n",
    "    print(\"exiting!\")\n",
    "    wini.close()\n",
    "#close first window\n",
    "wini.close()\n",
    "model=''\n",
    "if v['board']=='1st Year':\n",
    "    model=1\n",
    "elif v['board']=='2nd Year':\n",
    "    model=2\n",
    "elif v['board']=='3rd Year':\n",
    "    model=3\n",
    "else:\n",
    "    print('You have not selected any model!')\n",
    "print(model)\n",
    "\n",
    "if model==1:\n",
    "    year='1st year\\'s model'\n",
    "    subject_list=[['PH-121','HS-101','CY-105','HS-105/12','MT-111','CS-105','CS-106','EL-102','EE-119','ME-107','CS-107']]\n",
    "elif model==2:\n",
    "    year='2nd year\\'s model'\n",
    "    subject_list=[['PH-121','HS-101','CY-105','HS-105/12','MT-111','CS-105','CS-106','EL-102','EE-119','ME-107','CS-107'],['HS-205/20','MT-222','EE-222','MT-224','CS-210','CS-211','CS-203','CS-214','EE-217','CS-212','CS-215']]\n",
    "elif model==3:\n",
    "    year='3rd year\\'s model'\n",
    "    subject_list=[['PH-121','HS-101','CY-105','HS-105/12','MT-111','CS-105','CS-106','EL-102','EE-119','ME-107','CS-107'],['HS-205/20','MT-222','EE-222','MT-224','CS-210','CS-211','CS-203','CS-214','EE-217','CS-212','CS-215'],['MT-331','EF-303','HS-304','CS-301','CS-302','TC-383','EL-332','CS-318','CS-306','CS-312','CS-317']]\n",
    "full_res=[]    \n",
    "for counter,i in enumerate(subject_list):  \n",
    "    if counter==0:\n",
    "        year='1st year\\'s model'\n",
    "    elif counter==1:\n",
    "        year='2nd year\\'s model'        \n",
    "    elif counter==2:\n",
    "        year='3rd year\\'s model'\n",
    "    if counter==len(subject_list)-1:\n",
    "        button_string='Predict'\n",
    "    else:\n",
    "        button_string='Put Next Year\\'s Data'\n",
    "    layout=[[[psg.Frame(f'{year}',\n",
    "                [[psg.Text(f'{i[0]}', font='Ubuntu',justification='left')],[psg.Input(key=f'{i[0]}',font= 'Ubuntu')]\n",
    "                 ,[psg.Text(f'{i[1]}', font='Ubuntu',justification='left')],[psg.Input(key=f'{i[1]}',font= 'Ubuntu')]\n",
    "                 ,[psg.Text(f'{i[2]}', font='Ubuntu',justification='left')],[psg.Input(key=f'{i[2]}',font= 'Ubuntu')]\n",
    "                 ,[psg.Text(f'{i[3]}', font='Ubuntu',justification='left')],[psg.Input(key=f'{i[3]}',font= 'Ubuntu')]\n",
    "                 ,[psg.Text(f'{i[4]}', font='Ubuntu',justification='left')],[psg.Input(key=f'{i[4]}',font= 'Ubuntu')]\n",
    "                 ,[psg.Text(f'{i[5]}', font='Ubuntu',justification='left')],[psg.Input(key=f'{i[5]}',font= 'Ubuntu')]\n",
    "                 ,[psg.Text(f'{i[6]}', font='Ubuntu',justification='left')],[psg.Input(key=f'{i[6]}',font= 'Ubuntu')]\n",
    "                 ,[psg.Text(f'{i[7]}', font='Ubuntu',justification='left')],[psg.Input(key=f'{i[7]}',font= 'Ubuntu')]\n",
    "                 ,[psg.Text(f'{i[8]}', font='Ubuntu',justification='left')],[psg.Input(key=f'{i[8]}',font= 'Ubuntu')]\n",
    "                 ,[psg.Text(f'{i[9]}', font='Ubuntu',justification='left')],[psg.Input(key=f'{i[9]}',font= 'Ubuntu')]\n",
    "                 ,[psg.Text(f'{i[10]}', font='Ubuntu',justification='left')],[psg.Input(key=f'{i[10]}',font= 'Ubuntu')]],\n",
    "                border_width=2,key='newopt',font = 'Ubuntu',relief = \"solid\",visible=True)]],\n",
    "    [psg.Button(button_string, font=('Ubuntu',12)),psg.Button('Cancel', font=('Ubuntu',12))]]\n",
    "    win2 =psg.Window(f'{year}',layout)\n",
    "        #Read  values entered by user\n",
    "    e,v=win2.read()\n",
    "    if e == None or e == \"CANCEL\":\n",
    "        print(\"exiting!\")\n",
    "        win2.close()\n",
    "    win2.close()\n",
    "    print(v)\n",
    "    full_res.append(v)\n",
    "\n",
    "datas = []\n",
    "for i in full_res:\n",
    "    for j,k in i.items():\n",
    "        datas.append(k)\n",
    "\n",
    "if model == 1:\n",
    "    df_inputs = pd.DataFrame(datas)\n",
    "    inputs_encoded = labelencoder_X.transform(df_inputs)\n",
    "    model_pred_linear = regr1.predict([inputs_encoded])[0]\n",
    "    model_pred_knn = neigh1.predict([inputs_encoded])[0]\n",
    "    model_pred_lasso = lasso1.predict([inputs_encoded])[0]\n",
    "elif model == 2:\n",
    "    df_inputs = pd.DataFrame(datas)\n",
    "    inputs_encoded = labelencoder_X.transform(df_inputs)\n",
    "    model_pred_linear = regr2.predict([inputs_encoded])[0]\n",
    "    model_pred_knn = neigh2.predict([inputs_encoded])[0]\n",
    "    model_pred_lasso = lasso2.predict([inputs_encoded])[0]\n",
    "elif model == 3:\n",
    "    df_inputs = pd.DataFrame(datas)\n",
    "    inputs_encoded = labelencoder_X.transform(df_inputs)\n",
    "    model_pred_linear = regr3.predict([inputs_encoded])[0]\n",
    "    model_pred_knn = neigh3.predict([inputs_encoded])[0]\n",
    "    model_pred_lasso = lasso3.predict([inputs_encoded])[0]\n",
    "layout=[[psg.Text(f'⦿ The prediction of the {year} using Linear Regression Model is {model_pred_linear}',size=(50, 3), font='Ubuntu',justification='left')],\n",
    "       [psg.Text(f'⦿ The prediction of the {year} using KNN Regression Model is {model_pred_knn}',size=(50, 3), font='Ubuntu',justification='left')],\n",
    "       [psg.Text(f'⦿ The prediction of the {year} using Lasso Regression Model is {model_pred_lasso}',size=(50, 3), font='Ubuntu',justification='left')]]\n",
    "\n",
    "win3 =psg.Window(f'Result for {year} ',layout)\n",
    "e,v=win3.read()"
   ]
  },
  {
   "cell_type": "code",
   "execution_count": null,
   "id": "f4ce4d34",
   "metadata": {},
   "outputs": [],
   "source": []
  }
 ],
 "metadata": {
  "kernelspec": {
   "display_name": "Python 3 (ipykernel)",
   "language": "python",
   "name": "python3"
  },
  "language_info": {
   "codemirror_mode": {
    "name": "ipython",
    "version": 3
   },
   "file_extension": ".py",
   "mimetype": "text/x-python",
   "name": "python",
   "nbconvert_exporter": "python",
   "pygments_lexer": "ipython3",
   "version": "3.9.12"
  }
 },
 "nbformat": 4,
 "nbformat_minor": 5
}
